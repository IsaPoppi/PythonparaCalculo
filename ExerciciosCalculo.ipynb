{
 "cells": [
  {
   "cell_type": "markdown",
   "metadata": {
    "id": "Ggt3ile-xaBp"
   },
   "source": [
    "# 1)Considere o Teorema de Stokes, desenvolva um programa que tenha uma interação de interface que permita entra com as condições e aplicar esse teorema. Dê um exemplo."
   ]
  },
  {
   "cell_type": "markdown",
   "metadata": {
    "id": "xTqjdUuEwJpA"
   },
   "source": [
    "\n",
    "\n",
    "\n",
    "\n",
    "Exemplo 1:\n",
    "\n",
    "\n",
    "Para o campo vetorial F=(y²,xz,yz)  e a curva fechada\n",
    "C(t)=(cos(t),sin(t),t):\n",
    "\n",
    "Componente Fx(x): y**2\n",
    "\n",
    "Componente Fy(y): x*z\n",
    "\n",
    "Componente Fz(z): y*z\n",
    "\n",
    "Equação paramétrica da curva fechada:\n",
    "\n",
    "x(t): cos(t)\n",
    "\n",
    "y(t): sin(t)\n",
    "\n",
    "z(t): t"
   ]
  },
  {
   "cell_type": "code",
   "execution_count": null,
   "metadata": {
    "colab": {
     "base_uri": "https://localhost:8080/"
    },
    "id": "9O3zRPzjuBph",
    "outputId": "146de3b2-e611-4bd9-dccb-9551bd253a04"
   },
   "outputs": [
    {
     "name": "stdout",
     "output_type": "stream",
     "text": [
      "Entre com as componentes do campo vetorial F(x, y, z):\n",
      "Componente Fx(x): y²\n",
      "Componente Fy(y): x*z\n",
      "Componente Fz(z): y*z\n",
      "\n",
      "Entre com a equação paramétrica da curva fechada C(t) = (x(t), y(t), z(t)):\n",
      "x(t): cos(t)\n",
      "y(t): sin(t)\n",
      "z(t): t\n",
      "\n",
      "Integral de Linha usando o Teorema de Stokes:\n",
      "2*pi*z\n",
      "\n",
      "Integral de Superfície correspondente:\n",
      "2*pi*z\n"
     ]
    }
   ],
   "source": [
    "import sympy as sp\n",
    "\n",
    "def stokes_theorem():\n",
    "    # Entrada do campo vetorial\n",
    "    print(\"Entre com as componentes do campo vetorial F(x, y, z):\")\n",
    "    fx = input(\"Componente Fx(x): \")  #y²\n",
    "    fy = input(\"Componente Fy(y): \")  #x*z\n",
    "    fz = input(\"Componente Fz(z): \")  #y*z\n",
    "\n",
    "    # Definindo as variáveis simbólicas\n",
    "    x, y, z = sp.symbols('x y z')\n",
    "\n",
    "    # Convertendo as entradas em expressões simbólicas\n",
    "    Fx = sp.sympify(fx)\n",
    "    Fy = sp.sympify(fy)\n",
    "    Fz = sp.sympify(fz)\n",
    "\n",
    "    # Definindo o campo vetorial\n",
    "    F = sp.Matrix([Fx, Fy, Fz])\n",
    "\n",
    "    # Entrada da curva fechada\n",
    "    print(\"\\nEntre com a equação paramétrica da curva fechada C(t) = (x(t), y(t), z(t)):\")\n",
    "    x_t = input(\"x(t): \")   #cos(t)\n",
    "    y_t = input(\"y(t): \")   #sin(t)\n",
    "    z_t = input(\"z(t): \")   #t\n",
    "\n",
    "    # Convertendo as entradas em expressões simbólicas\n",
    "    xt = sp.sympify(x_t)\n",
    "    yt = sp.sympify(y_t)\n",
    "    zt = sp.sympify(z_t)\n",
    "\n",
    "    # Definindo a curva fechada\n",
    "    C = sp.Matrix([xt, yt, zt])\n",
    "\n",
    "    # Calculando a integral de linha\n",
    "    dl = sp.diff(C, sp.symbols('t'))\n",
    "    curl_F = sp.Matrix([sp.diff(F[2], y) - sp.diff(F[1], z), sp.diff(F[0], z) - sp.diff(F[2], x), sp.diff(F[1], x) - sp.diff(F[0], y)])\n",
    "    line_integral = sp.integrate(curl_F.dot(dl), (sp.symbols('t'), 0, 2 * sp.pi))\n",
    "\n",
    "    # Calculando a integral de superfície\n",
    "    surface_integral = sp.integrate(curl_F.dot(C.cross(dl)), (sp.symbols('t'), 0, 2 * sp.pi))\n",
    "\n",
    "    # Exibindo os resultados\n",
    "    print(\"\\nIntegral de Linha usando o Teorema de Stokes:\")\n",
    "    print(line_integral)\n",
    "    print(\"\\nIntegral de Superfície correspondente:\")\n",
    "    print(surface_integral)\n",
    "\n",
    "# Executando o programa\n",
    "stokes_theorem()\n"
   ]
  },
  {
   "cell_type": "markdown",
   "metadata": {
    "id": "DRMgR_btw0HL"
   },
   "source": [
    "\n",
    "\n",
    "---\n",
    "\n",
    "\n",
    "\n",
    "\n",
    "\n",
    "\n",
    "Exemplo 2:\n",
    "\n",
    "Para o campo vetorial F=(x²,y²,z²) e a curva fechada\n",
    "C(t)=(sin(t),cos(t),sin(2t)):\n",
    "\n",
    "Componente Fx(x): x**2\n",
    "\n",
    "Componente Fy(y): y**2\n",
    "\n",
    "Componente Fz(z): z**2\n",
    "\n",
    "Equação paramétrica da curva fechada:\n",
    "\n",
    "x(t): sin(t)\n",
    "\n",
    "y(t): cos(t)\n",
    "\n",
    "z(t): sin(2*t)\n",
    "\n"
   ]
  },
  {
   "cell_type": "code",
   "execution_count": null,
   "metadata": {
    "colab": {
     "base_uri": "https://localhost:8080/"
    },
    "id": "XAJKe9SavxYe",
    "outputId": "67882531-e3b0-4daa-e760-31d0359f8e57"
   },
   "outputs": [
    {
     "name": "stdout",
     "output_type": "stream",
     "text": [
      "Entre com as componentes do campo vetorial F(x, y, z):\n",
      "Componente Fx(x): x²\n",
      "Componente Fy(y): y²\n",
      "Componente Fz(z): z²\n",
      "\n",
      "Entre com a equação paramétrica da curva fechada C(t) = (x(t), y(t), z(t)):\n",
      "x(t): sin(t)\n",
      "y(t): cos(t)\n",
      "z(t): sin(2*t)\n",
      "\n",
      "Integral de Linha usando o Teorema de Stokes:\n",
      "0\n",
      "\n",
      "Integral de Superfície correspondente:\n",
      "0\n"
     ]
    }
   ],
   "source": [
    "import sympy as sp\n",
    "\n",
    "def stokes_theorem():\n",
    "    # Entrada do campo vetorial\n",
    "    print(\"Entre com as componentes do campo vetorial F(x, y, z):\")\n",
    "    fx = input(\"Componente Fx(x): \")   #x²\n",
    "    fy = input(\"Componente Fy(y): \")   #y²\n",
    "    fz = input(\"Componente Fz(z): \")   #z²\n",
    "\n",
    "    # Definindo as variáveis simbólicas\n",
    "    x, y, z = sp.symbols('x y z')\n",
    "\n",
    "    # Convertendo as entradas em expressões simbólicas\n",
    "    Fx = sp.sympify(fx)\n",
    "    Fy = sp.sympify(fy)\n",
    "    Fz = sp.sympify(fz)\n",
    "\n",
    "    # Definindo o campo vetorial\n",
    "    F = sp.Matrix([Fx, Fy, Fz])\n",
    "\n",
    "    # Entrada da curva fechada\n",
    "    print(\"\\nEntre com a equação paramétrica da curva fechada C(t) = (x(t), y(t), z(t)):\")\n",
    "    x_t = input(\"x(t): \")   #sin(t)\n",
    "    y_t = input(\"y(t): \")   #cos(t)\n",
    "    z_t = input(\"z(t): \")   #sin(2*t)\n",
    "\n",
    "    # Convertendo as entradas em expressões simbólicas\n",
    "    xt = sp.sympify(x_t)\n",
    "    yt = sp.sympify(y_t)\n",
    "    zt = sp.sympify(z_t)\n",
    "\n",
    "    # Definindo a curva fechada\n",
    "    C = sp.Matrix([xt, yt, zt])\n",
    "\n",
    "    # Calculando a integral de linha\n",
    "    dl = sp.diff(C, sp.symbols('t'))\n",
    "    curl_F = sp.Matrix([sp.diff(F[2], y) - sp.diff(F[1], z), sp.diff(F[0], z) - sp.diff(F[2], x), sp.diff(F[1], x) - sp.diff(F[0], y)])\n",
    "    line_integral = sp.integrate(curl_F.dot(dl), (sp.symbols('t'), 0, 2 * sp.pi))\n",
    "\n",
    "    # Calculando a integral de superfície\n",
    "    surface_integral = sp.integrate(curl_F.dot(C.cross(dl)), (sp.symbols('t'), 0, 2 * sp.pi))\n",
    "\n",
    "    # Exibindo os resultados\n",
    "    print(\"\\nIntegral de Linha usando o Teorema de Stokes:\")\n",
    "    print(line_integral)\n",
    "    print(\"\\nIntegral de Superfície correspondente:\")\n",
    "    print(surface_integral)\n",
    "\n",
    "# Executando o programa\n",
    "stokes_theorem()\n",
    "\n"
   ]
  },
  {
   "cell_type": "markdown",
   "metadata": {
    "id": "gFpkTsJ-KVUj"
   },
   "source": [
    "\n",
    "\n",
    "---\n",
    "\n",
    "# 2)Desenvolva um código que permita calcular os termos de Fibonacci.\n"
   ]
  },
  {
   "cell_type": "code",
   "execution_count": 1,
   "metadata": {
    "colab": {
     "base_uri": "https://localhost:8080/"
    },
    "executionInfo": {
     "elapsed": 24,
     "status": "ok",
     "timestamp": 1700574948214,
     "user": {
      "displayName": "Isadora Poppi",
      "userId": "08222235490604269055"
     },
     "user_tz": 180
    },
    "id": "1p90_kNrKdA-",
    "outputId": "9a1e9671-20a6-4057-d5fd-9e539d3a3fe9"
   },
   "outputs": [
    {
     "name": "stdout",
     "output_type": "stream",
     "text": [
      "0\n",
      "1\n",
      "1\n",
      "2\n",
      "3\n",
      "5\n",
      "8\n",
      "13\n",
      "21\n"
     ]
    }
   ],
   "source": [
    "def fibonacci(n):\n",
    "    if n == 0 or n == 1:\n",
    "        return n\n",
    "    else:\n",
    "        return fibonacci(n - 1) + fibonacci(n - 2)\n",
    "\n",
    "\n",
    "# Exemplos\n",
    "print(fibonacci(0))  # 0\n",
    "print(fibonacci(1))  # 1\n",
    "print(fibonacci(2))  # 1\n",
    "print(fibonacci(3))  # 2\n",
    "print(fibonacci(4))  # 3\n",
    "print(fibonacci(5))  # 5\n",
    "print(fibonacci(6))  # 8\n",
    "print(fibonacci(7))  # 13\n",
    "print(fibonacci(8))  # 21"
   ]
  },
  {
   "cell_type": "code",
   "execution_count": 2,
   "metadata": {
    "colab": {
     "base_uri": "https://localhost:8080/"
    },
    "executionInfo": {
     "elapsed": 10342,
     "status": "ok",
     "timestamp": 1700574989757,
     "user": {
      "displayName": "Isadora Poppi",
      "userId": "08222235490604269055"
     },
     "user_tz": 180
    },
    "id": "LRGJEw4uKkP0",
    "outputId": "e7fbb28c-273d-434d-d30b-de54c5ec7f93"
   },
   "outputs": [
    {
     "name": "stdout",
     "output_type": "stream",
     "text": [
      "Digite o número de termos da série de Fibonacci: 9\n",
      "Os primeiros 9 termos da série de Fibonacci são:\n",
      "0\n",
      "1\n",
      "1\n",
      "2\n",
      "3\n",
      "5\n",
      "8\n",
      "13\n",
      "21\n"
     ]
    }
   ],
   "source": [
    "def fibonacci(n):\n",
    "    if n == 0 or n == 1:\n",
    "        return n\n",
    "    else:\n",
    "        return fibonacci(n - 1) + fibonacci(n - 2)\n",
    "\n",
    "\n",
    "def main():\n",
    "    n = int(input(\"Digite o número de termos da série de Fibonacci: \"))   #exemplo:9\n",
    "    print(\"Os primeiros\", n, \"termos da série de Fibonacci são:\")\n",
    "    for i in range(n):\n",
    "        print(fibonacci(i))\n",
    "\n",
    "\n",
    "if __name__ == \"__main__\":\n",
    "    main()\n"
   ]
  },
  {
   "cell_type": "markdown",
   "metadata": {
    "id": "eYqyzmdnK4h0"
   },
   "source": [
    "\n",
    "\n",
    "---\n",
    "\n",
    "# 3) Considere uma integral dupla com dx dy, desenvolva um código que calcule essas integrais duplas e plote a área entre duas funções aplicadas nesta integral. Dê um exemplo."
   ]
  },
  {
   "cell_type": "code",
   "execution_count": 3,
   "metadata": {
    "colab": {
     "base_uri": "https://localhost:8080/",
     "height": 430
    },
    "executionInfo": {
     "elapsed": 434,
     "status": "ok",
     "timestamp": 1700575136008,
     "user": {
      "displayName": "Isadora Poppi",
      "userId": "08222235490604269055"
     },
     "user_tz": 180
    },
    "id": "fWD48XnfLJWQ",
    "outputId": "02be609a-e9fe-44f9-f51a-4365cc00356d"
   },
   "outputs": [
    {
     "data": {
      "image/png": "[encoded data removed]",
      "text/plain": [
       "<Figure size 640x480 with 1 Axes>"
      ]
     },
     "metadata": {},
     "output_type": "display_data"
    }
   ],
   "source": [
    "import numpy as np\n",
    "\n",
    "def integral_dupla(f, g, a, b, c, d):\n",
    "  \"\"\"\n",
    "  Calcula a integral dupla de f(x, y) em [a, b] x [c, d].\n",
    "\n",
    "  Args:\n",
    "    f: A função a ser integrada.\n",
    "    g: A função a ser integrada.\n",
    "    a: O limite inferior de integração em x.\n",
    "    b: O limite superior de integração em x.\n",
    "    c: O limite inferior de integração em y.\n",
    "    d: O limite superior de integração em y.\n",
    "\n",
    "  Returns:\n",
    "    O resultado da integral dupla.\n",
    "  \"\"\"\n",
    "\n",
    "  x = np.linspace(a, b, num=100)\n",
    "  y = np.linspace(c, d, num=100)\n",
    "\n",
    "  S = 0.0\n",
    "  for i in range(len(x)-1):\n",
    "    for j in range(len(y)-1):\n",
    "      S += (f(x[i], y[j]) + f(x[i+1], y[j]) + f(x[i], y[j+1]) + f(x[i+1], y[j+1])) * (y[j+1] - y[j]) / 4.0\n",
    "\n",
    "  return S\n",
    "\n",
    "\n",
    "\n",
    "import matplotlib.pyplot as plt\n",
    "\n",
    "def plot_area(f, g, a, b, c, d):\n",
    "  \"\"\"\n",
    "  Plota a área entre duas funções f(x, y) e g(x, y) em [a, b] x [c, d].\n",
    "\n",
    "  Args:\n",
    "    f: A função superior.\n",
    "    g: A função inferior.\n",
    "    a: O limite inferior de integração em x.\n",
    "    b: O limite superior de integração em x.\n",
    "    c: O limite inferior de integração em y.\n",
    "    d: O limite superior de integração em y.\n",
    "  \"\"\"\n",
    "\n",
    "  x = np.linspace(a, b, num=100)\n",
    "  y = np.linspace(c, d, num=100)\n",
    "\n",
    "  # Calcula a área\n",
    "  area = integral_dupla(f, g, a, b, c, d)\n",
    "\n",
    "  # Plota as funções\n",
    "  plt.plot(x, f(x, y), label=\"f(x, y)\")\n",
    "  plt.plot(x, g(x, y), label=\"g(x, y)\")\n",
    "\n",
    "  # Plota a área\n",
    "  plt.fill_between(x, f(x, y), g(x, y), alpha=0.5)\n",
    "\n",
    "  # Legenda\n",
    "  plt.legend()\n",
    "\n",
    "  # Mostra o gráfico\n",
    "  plt.show()\n",
    "\n",
    "\n",
    "\n",
    "def f(x, y):\n",
    "  return x**2\n",
    "\n",
    "def g(x, y):\n",
    "  return x\n",
    "\n",
    "plot_area(f, g, 0, 1, 0, 1)\n"
   ]
  }
 ],
 "metadata": {
  "colab": {
   "provenance": []
  },
  "kernelspec": {
   "display_name": "Python 3",
   "name": "python3"
  },
  "language_info": {
   "name": "python"
  }
 },
 "nbformat": 4,
 "nbformat_minor": 0
}
