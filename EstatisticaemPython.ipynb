{
 "cells": [
  {
   "cell_type": "markdown",
   "metadata": {
    "id": "dvAL2zB3arVj"
   },
   "source": [
    "## **Média móvel simples e Média móvel ponderada**"
   ]
  },
  {
   "cell_type": "markdown",
   "metadata": {
    "id": "7dIkKfrda3r-"
   },
   "source": [
    "Média móvel simples consiste em pegar os valores dos dias ou meses ou anos anteriores e tirar a média deles"
   ]
  },
  {
   "cell_type": "code",
   "execution_count": null,
   "metadata": {
    "colab": {
     "base_uri": "https://localhost:8080/"
    },
    "executionInfo": {
     "elapsed": 2,
     "status": "ok",
     "timestamp": 1712680290126,
     "user": {
      "displayName": "Joao Victor Ferreira Marques",
      "userId": "14609635175473464517"
     },
     "user_tz": 180
    },
    "id": "mllH0kcraqf-",
    "outputId": "f1c7d93b-a36a-42af-f43c-b4eb83c6c75f"
   },
   "outputs": [
    {
     "name": "stdout",
     "output_type": "stream",
     "text": [
      "A média movel simples dos gastos mensais é: 819.1666666666666\n"
     ]
    }
   ],
   "source": [
    "gastos_mensais = {'janeiro': 894, 'fevereiro': 856, 'março': 961, 'abril': 669, 'maio': 753, 'junho': 782}\n",
    "\n",
    "\n",
    "media_movel_simples = sum(gastos_mensais.values())/ len(gastos_mensais)\n",
    "\n",
    "print(\"A média movel simples dos gastos mensais é:\", media_movel_simples)"
   ]
  },
  {
   "cell_type": "markdown",
   "metadata": {
    "id": "6Bt8U7_U6HjY"
   },
   "source": [
    "Média móvel ponderada tem diferentes pesos para as observações.\n",
    "\n",
    "Em séries temporais pode ser comum dar pesos maiores aos valores mais recentes.\n",
    "\n"
   ]
  },
  {
   "cell_type": "markdown",
   "metadata": {
    "id": "AxW_twRAFJ66"
   },
   "source": [
    "Casos os pesos não sejam informados e precise criar pesos, normalmente precisamos que a soma de todos os pesos seja 1"
   ]
  },
  {
   "cell_type": "markdown",
   "metadata": {
    "id": "SoLMJEvgFLqc"
   },
   "source": [
    "**Para calcular os valores de cada peso, podemos usar a seguinte formula:**\n",
    "\n",
    "S = n * (n+1) / 2\n",
    "\n",
    "**\"n\" é a quantidade de observações que temos**\n",
    "\n",
    "**Após descobrir o valor de S, a gente divide de forma unitaria e de acordo com a quantidade de observações, pelo valor de S**\n",
    "\n",
    "\n",
    "\n"
   ]
  },
  {
   "cell_type": "code",
   "execution_count": null,
   "metadata": {
    "colab": {
     "base_uri": "https://localhost:8080/"
    },
    "executionInfo": {
     "elapsed": 463,
     "status": "ok",
     "timestamp": 1712687983630,
     "user": {
      "displayName": "Joao Victor Ferreira Marques",
      "userId": "14609635175473464517"
     },
     "user_tz": 180
    },
    "id": "cJdMiegF6HT0",
    "outputId": "2d190b25-44b2-44a7-ac79-ffef81221824"
   },
   "outputs": [
    {
     "data": {
      "text/plain": [
       "21.0"
      ]
     },
     "execution_count": 18,
     "metadata": {},
     "output_type": "execute_result"
    }
   ],
   "source": [
    "gasto_mensal = {'janeiro': 894, 'fevereiro': 856, 'março': 961, 'abril': 669, 'maio': 753, 'junho': 782, }\n",
    "\n",
    "# Temos 6 meses, então teremos 6 pesos\n",
    "s = 6 * (6+1) / 2\n",
    "s"
   ]
  },
  {
   "cell_type": "code",
   "execution_count": null,
   "metadata": {
    "colab": {
     "base_uri": "https://localhost:8080/"
    },
    "executionInfo": {
     "elapsed": 4,
     "status": "ok",
     "timestamp": 1712688050000,
     "user": {
      "displayName": "Joao Victor Ferreira Marques",
      "userId": "14609635175473464517"
     },
     "user_tz": 180
    },
    "id": "_7kTvIK4KKHD",
    "outputId": "fbd6c7e6-a917-49b2-93e3-4b34b7089801"
   },
   "outputs": [
    {
     "data": {
      "text/plain": [
       "(0.047619047619047616,\n",
       " 0.09523809523809523,\n",
       " 0.14285714285714285,\n",
       " 0.19047619047619047,\n",
       " 0.23809523809523808,\n",
       " 0.2857142857142857)"
      ]
     },
     "execution_count": 19,
     "metadata": {},
     "output_type": "execute_result"
    }
   ],
   "source": [
    "# Calculando cada peso de acordo com o valor de S\n",
    "pesos = 1/21, 2/21, 3/21, 4/21, 5/21, 6/21\n",
    "pesos\n",
    "\n"
   ]
  },
  {
   "cell_type": "code",
   "execution_count": null,
   "metadata": {
    "colab": {
     "base_uri": "https://localhost:8080/"
    },
    "executionInfo": {
     "elapsed": 246,
     "status": "ok",
     "timestamp": 1712688191080,
     "user": {
      "displayName": "Joao Victor Ferreira Marques",
      "userId": "14609635175473464517"
     },
     "user_tz": 180
    },
    "id": "0e7q95taKfG4",
    "outputId": "77c94f50-e91f-4d8a-b171-e7222386736e"
   },
   "outputs": [
    {
     "data": {
      "text/plain": [
       "791"
      ]
     },
     "execution_count": 21,
     "metadata": {},
     "output_type": "execute_result"
    }
   ],
   "source": [
    "# Calculando a média poderada utilizando a formula \"(peso1* valor1) + (peso2 * valor2) + (peso3 * valor3)...  / peso1 + peso2 + peso3...\"\n",
    "\n",
    "media_ponderada = (pesos[0] * 894) + (pesos[1] * 856) + (pesos[2] * 961) + (pesos[3] * 669) + (pesos[4] * 753) + (pesos[5] * 782) / sum(pesos)\n",
    "\n",
    "int(media_ponderada)"
   ]
  },
  {
   "cell_type": "markdown",
   "metadata": {
    "id": "trsykIS2LA4r"
   },
   "source": [
    "## **Variancia e Desvio Padrão**"
   ]
  },
  {
   "cell_type": "markdown",
   "metadata": {
    "id": "hJc2IxJSLQNr"
   },
   "source": [
    "Para descobirmos a variancia, precisamos descobri a média das nossas observações"
   ]
  },
  {
   "cell_type": "code",
   "execution_count": null,
   "metadata": {
    "colab": {
     "base_uri": "https://localhost:8080/"
    },
    "executionInfo": {
     "elapsed": 261,
     "status": "ok",
     "timestamp": 1712689376150,
     "user": {
      "displayName": "Joao Victor Ferreira Marques",
      "userId": "14609635175473464517"
     },
     "user_tz": 180
    },
    "id": "Yao9r9aPPK5Y",
    "outputId": "fdd9e801-d5f4-4a63-f09a-22e5d625cbc4"
   },
   "outputs": [
    {
     "data": {
      "text/plain": [
       "7"
      ]
     },
     "execution_count": 23,
     "metadata": {},
     "output_type": "execute_result"
    }
   ],
   "source": [
    "# Notas\n",
    "\n",
    "notas = 6, 9, 5, 7, 8, 8\n",
    "\n",
    "media_notas = sum(notas)/len(notas)\n",
    "\n",
    "int(media_notas)"
   ]
  },
  {
   "cell_type": "markdown",
   "metadata": {
    "id": "jFQf061bMXyJ"
   },
   "source": [
    "Após isso, precisamos calcular o desvio, que é a diferença entre a média e as observações, de modo que o resultado seja positivo"
   ]
  },
  {
   "cell_type": "code",
   "execution_count": null,
   "metadata": {
    "colab": {
     "base_uri": "https://localhost:8080/"
    },
    "executionInfo": {
     "elapsed": 3,
     "status": "ok",
     "timestamp": 1712689485309,
     "user": {
      "displayName": "Joao Victor Ferreira Marques",
      "userId": "14609635175473464517"
     },
     "user_tz": 180
    },
    "id": "gMgWkcD_MhRW",
    "outputId": "c10f6469-1506-47e0-8179-ecf88b583b4a"
   },
   "outputs": [
    {
     "data": {
      "text/plain": [
       "(1, 2, 2, 0, 1, 1)"
      ]
     },
     "execution_count": 25,
     "metadata": {},
     "output_type": "execute_result"
    }
   ],
   "source": [
    "desvio = 7 - 6, 9 - 7, 7 - 5, 7 - 7, 8 - 7, 8 - 7\n",
    "desvio"
   ]
  },
  {
   "cell_type": "markdown",
   "metadata": {
    "id": "EyX43jnKRdmb"
   },
   "source": [
    "E agora sim iremos calcular a variancia, que consiste em colocar os valores do desvio ao quadrado, somar e dividir pela quantidade de numeros, ou seja, tirar a média\n",
    "\n"
   ]
  },
  {
   "cell_type": "code",
   "execution_count": null,
   "metadata": {
    "colab": {
     "base_uri": "https://localhost:8080/"
    },
    "executionInfo": {
     "elapsed": 238,
     "status": "ok",
     "timestamp": 1712691188452,
     "user": {
      "displayName": "Joao Victor Ferreira Marques",
      "userId": "14609635175473464517"
     },
     "user_tz": 180
    },
    "id": "00VK6h-GVL1_",
    "outputId": "302a2c7d-6ed3-4204-f1bb-2c1e7a279942"
   },
   "outputs": [
    {
     "data": {
      "text/plain": [
       "1.8333333333333333"
      ]
     },
     "execution_count": 34,
     "metadata": {},
     "output_type": "execute_result"
    }
   ],
   "source": [
    "desvio_quadrado = [numero ** 2 for numero in desvio]\n",
    "desvio_quadrado\n",
    "\n",
    "soma_desvio_quadrado = sum(desvio_quadrado)\n",
    "soma_desvio_quadrado\n",
    "\n",
    "variancia = soma_desvio_quadrado / len(desvio)\n",
    "variancia\n"
   ]
  },
  {
   "cell_type": "markdown",
   "metadata": {
    "id": "O_vw3Sq2Wmo_"
   },
   "source": [
    "E o desvio padrão é a raiz quadrada da variancia"
   ]
  },
  {
   "cell_type": "code",
   "execution_count": null,
   "metadata": {
    "colab": {
     "base_uri": "https://localhost:8080/"
    },
    "executionInfo": {
     "elapsed": 241,
     "status": "ok",
     "timestamp": 1712691373063,
     "user": {
      "displayName": "Joao Victor Ferreira Marques",
      "userId": "14609635175473464517"
     },
     "user_tz": 180
    },
    "id": "34dR8ULVWqBN",
    "outputId": "d2dd6d08-a5d0-4052-9983-64b4b7b72eef"
   },
   "outputs": [
    {
     "data": {
      "text/plain": [
       "0.9166666666666666"
      ]
     },
     "execution_count": 36,
     "metadata": {},
     "output_type": "execute_result"
    }
   ],
   "source": [
    "desvio_padrao = variancia * 0.5\n",
    "desvio_padrao"
   ]
  },
  {
   "cell_type": "markdown",
   "metadata": {
    "id": "XtMGrGHGX60a"
   },
   "source": [
    "## **Desvio Padrão amostral e populacional**"
   ]
  },
  {
   "cell_type": "markdown",
   "metadata": {
    "id": "Ol24Ox6VYFAq"
   },
   "source": [
    "Desvio padrão populacional é representado pelo simbolo sigma.\n",
    "\n",
    "Sua formula é:  raiz quadrada (soma dos desvios² / quantidade de de numeros)"
   ]
  },
  {
   "cell_type": "code",
   "execution_count": null,
   "metadata": {
    "colab": {
     "base_uri": "https://localhost:8080/"
    },
    "executionInfo": {
     "elapsed": 243,
     "status": "ok",
     "timestamp": 1712692017394,
     "user": {
      "displayName": "Joao Victor Ferreira Marques",
      "userId": "14609635175473464517"
     },
     "user_tz": 180
    },
    "id": "aUHFFDuzZPfm",
    "outputId": "ec3c22c0-fb2d-4bcc-887f-6b5058d38497"
   },
   "outputs": [
    {
     "data": {
      "text/plain": [
       "1.8333333333333333"
      ]
     },
     "execution_count": 37,
     "metadata": {},
     "output_type": "execute_result"
    }
   ],
   "source": [
    "soma_desvio_quadrado / len(desvio)"
   ]
  },
  {
   "cell_type": "markdown",
   "metadata": {
    "id": "oB3ocwEpZmYb"
   },
   "source": [
    "Já o desvio padrao populaciona é representado por \"Sx\".\n",
    "\n",
    "Sua formula é: raiz quadrada (soma dos desvios² / pela quantidade de numeros - 1)"
   ]
  },
  {
   "cell_type": "code",
   "execution_count": null,
   "metadata": {
    "colab": {
     "base_uri": "https://localhost:8080/"
    },
    "executionInfo": {
     "elapsed": 251,
     "status": "ok",
     "timestamp": 1712692309221,
     "user": {
      "displayName": "Joao Victor Ferreira Marques",
      "userId": "14609635175473464517"
     },
     "user_tz": 180
    },
    "id": "J4GKQd9paiV-",
    "outputId": "689080cb-a69a-4459-b831-64a0e770e141"
   },
   "outputs": [
    {
     "data": {
      "text/plain": [
       "2.2"
      ]
     },
     "execution_count": 39,
     "metadata": {},
     "output_type": "execute_result"
    }
   ],
   "source": [
    "soma_desvio_quadrado / (len(desvio) - 1)"
   ]
  },
  {
   "cell_type": "markdown",
   "metadata": {
    "id": "oIAHagBHcTVU"
   },
   "source": [
    "## **Tamanho da amostra**"
   ]
  },
  {
   "cell_type": "markdown",
   "metadata": {
    "id": "HOS3PmbOcaqT"
   },
   "source": [
    "Para calcularmos o tamanho da amostra, primeiro precisamos calcular a primeira aproximação da amostra,\n",
    "\n",
    "Após isso calcularemos o tamanho da amostra (n)"
   ]
  },
  {
   "cell_type": "markdown",
   "metadata": {
    "id": "d5XJapCmeEur"
   },
   "source": [
    "N -> tamanho da população\n",
    "\n",
    "n -> tamanho da amostra\n",
    "\n",
    "n0 -> primeira aproximação\n",
    "\n",
    "E0 -> erro amostral toleravel"
   ]
  },
  {
   "cell_type": "markdown",
   "metadata": {
    "id": "oEiw77mTekPC"
   },
   "source": [
    "A formula da primeira aproximação (n0) é:\n",
    "\n",
    "n0 = 1 / E0²"
   ]
  },
  {
   "cell_type": "code",
   "execution_count": null,
   "metadata": {
    "colab": {
     "base_uri": "https://localhost:8080/"
    },
    "executionInfo": {
     "elapsed": 265,
     "status": "ok",
     "timestamp": 1712694559836,
     "user": {
      "displayName": "Joao Victor Ferreira Marques",
      "userId": "14609635175473464517"
     },
     "user_tz": 180
    },
    "id": "hzW5JCJUeBpg",
    "outputId": "97abe3ae-0a22-4537-b998-d069ba877092"
   },
   "outputs": [
    {
     "data": {
      "text/plain": [
       "2500.0"
      ]
     },
     "execution_count": 51,
     "metadata": {},
     "output_type": "execute_result"
    }
   ],
   "source": [
    "# Exemplo\n",
    "\n",
    "E0 = 2/100\n",
    "\n",
    "n0 = 1 / (E0**2)\n",
    "n0\n"
   ]
  },
  {
   "cell_type": "markdown",
   "metadata": {
    "id": "Ncx5zLkJgcVn"
   },
   "source": [
    "A formula do tamnho da amostra (n) é:\n",
    "\n",
    "N(tamanho da população) * n0 (primeira aproximação) / N(tamanho da população) + n0 (primeira aproximação)"
   ]
  },
  {
   "cell_type": "code",
   "execution_count": null,
   "metadata": {
    "colab": {
     "base_uri": "https://localhost:8080/"
    },
    "executionInfo": {
     "elapsed": 236,
     "status": "ok",
     "timestamp": 1712694571681,
     "user": {
      "displayName": "Joao Victor Ferreira Marques",
      "userId": "14609635175473464517"
     },
     "user_tz": 180
    },
    "id": "P1UEkvYzgp2F",
    "outputId": "e6e4c61e-b110-4d29-c1dc-cfa637ae79f0"
   },
   "outputs": [
    {
     "data": {
      "text/plain": [
       "2333"
      ]
     },
     "execution_count": 53,
     "metadata": {},
     "output_type": "execute_result"
    }
   ],
   "source": [
    "# Exemplo\n",
    "\n",
    "N = 35000\n",
    "\n",
    "n = (N * n0) / (N + n0)\n",
    "int(n)"
   ]
  },
  {
   "cell_type": "markdown",
   "metadata": {
    "id": "6qcAlkRSlZ-s"
   },
   "source": [
    "## **Regressão Linear**"
   ]
  },
  {
   "cell_type": "markdown",
   "metadata": {
    "id": "90oeOooZmtu2"
   },
   "source": [
    "Para calcular a regressão linear, utilizamos a formula y = A + B*X\n",
    "\n"
   ]
  },
  {
   "cell_type": "markdown",
   "metadata": {
    "id": "1AJ72FIKouTh"
   },
   "source": [
    "Sempre começaremos descobrindo primeiro B (coeficiente angular)\n",
    "\n",
    "Podemos descobrir de varias formas, uma delas é usando a formula de pearson\n",
    "\n"
   ]
  },
  {
   "cell_type": "markdown",
   "metadata": {
    "id": "xLk4o3IfxJd6"
   },
   "source": [
    "**Formula de pearson é:**\n",
    "\n",
    "n * (x1 * y1) + (x2 * y2) + (x3 * y3)... - (x1 + x2 + x3...) * (y1 + y2 + y3...) / n * (x1² + x2² + x3²...) - (x1 + x2 + x3...)²"
   ]
  },
  {
   "cell_type": "code",
   "execution_count": null,
   "metadata": {
    "colab": {
     "base_uri": "https://localhost:8080/"
    },
    "executionInfo": {
     "elapsed": 254,
     "status": "ok",
     "timestamp": 1712700120669,
     "user": {
      "displayName": "Joao Victor Ferreira Marques",
      "userId": "14609635175473464517"
     },
     "user_tz": 180
    },
    "id": "4n3Rqqxf0Kah",
    "outputId": "a1c88fe5-78ea-45b9-caa3-939d43f011fd"
   },
   "outputs": [
    {
     "name": "stdout",
     "output_type": "stream",
     "text": [
      "[400, 8100, 6400]\n",
      "[5776, 3844, 2601]\n",
      "[1520, 5580, 4080]\n",
      "190\n",
      "189\n",
      "14900\n",
      "12221\n",
      "11180\n",
      "-0.2755813953488372\n"
     ]
    }
   ],
   "source": [
    "x = [20, 90, 80]\n",
    "y = [76, 62, 51]\n",
    "\n",
    "x_quadrado = [i ** 2 for i in x]\n",
    "y_quadrado = [i ** 2 for i in y]\n",
    "print(x_quadrado)\n",
    "print(y_quadrado)\n",
    "\n",
    "xy = [x[i] * y[i] for i in range(len(x))]\n",
    "print(xy)\n",
    "\n",
    "soma_x = sum(x)\n",
    "soma_y = sum(y)\n",
    "print(soma_x)\n",
    "print(soma_y)\n",
    "\n",
    "soma_x_quadrado = sum(x_quadrado)\n",
    "soma_y_quadrado = sum(y_quadrado)\n",
    "print(soma_x_quadrado)\n",
    "print(soma_y_quadrado)\n",
    "\n",
    "soma_xy = sum(xy)\n",
    "print(soma_xy)\n",
    "\n",
    "n = 3  # Porque temos 3 itens no x e y\n",
    "\n",
    "B = ((n * soma_xy) - (soma_x * soma_y)) / ((n * soma_x_quadrado) - (soma_x ** 2))\n",
    "print(B)\n"
   ]
  },
  {
   "cell_type": "markdown",
   "metadata": {
    "id": "b0D0fD2-vUry"
   },
   "source": [
    " **Agora vamos calcular o valor de A**\n",
    "\n",
    "Dado pela seguinte formula: somatorio de y - B * somatorio de x / n"
   ]
  },
  {
   "cell_type": "code",
   "execution_count": null,
   "metadata": {
    "colab": {
     "base_uri": "https://localhost:8080/"
    },
    "executionInfo": {
     "elapsed": 234,
     "status": "ok",
     "timestamp": 1712700290050,
     "user": {
      "displayName": "Joao Victor Ferreira Marques",
      "userId": "14609635175473464517"
     },
     "user_tz": 180
    },
    "id": "p8IcSPRI41pP",
    "outputId": "67cde984-1f47-4a2c-b3a4-b833c7591a5e"
   },
   "outputs": [
    {
     "data": {
      "text/plain": [
       "80.45348837209302"
      ]
     },
     "execution_count": 88,
     "metadata": {},
     "output_type": "execute_result"
    }
   ],
   "source": [
    "A = (soma_y - (B * soma_x)) / n\n",
    "A"
   ]
  },
  {
   "cell_type": "markdown",
   "metadata": {
    "id": "De2-qE0P7O0X"
   },
   "source": [
    "## **Coeficiente de Correlação**"
   ]
  },
  {
   "cell_type": "markdown",
   "metadata": {
    "id": "rx_xsItO7Q_P"
   },
   "source": [
    "Pode ser calculado atraves da formula de Coeficiente de Correlação de Pearson\n"
   ]
  },
  {
   "cell_type": "markdown",
   "metadata": {
    "id": "Z_z8c0pVDlaK"
   },
   "source": [
    "(x1 - x media + x2 - x media + x3 - x media...) * (y1 - y media + y2 - y media + y3 - y media) / raiz quadrada (x1 - x media)**2 + (x2 - x media)**2 + (x3 - x media...) **2 * (y1 - y media)**2 + (y2 - y media)**2  + (y3 - y media)**2"
   ]
  },
  {
   "cell_type": "code",
   "execution_count": null,
   "metadata": {
    "id": "XRBYeVOoFRl8"
   },
   "outputs": [],
   "source": [
    "# Formula na  prática\n",
    "\n",
    "r = (x[0] - mean_x + x[1] - mean_x + x3 - mean_x) * (y[0] - mean_y + y[1] - mean_y + y[2] - mean_y) /  sqrt( ((x[0] - mean_x)**2) + ((x[1] - mean_x)**2) + ((x[2] - mean_x) **2) * ((y[0] - mean_y)**2) + ((y[1] - mean_y)**2)  + ((y[2] - mean_y)**2))"
   ]
  }
 ],
 "metadata": {
  "colab": {
   "authorship_tag": "ABX9TyOjFzsQNzzbPGaGZMyV91ch",
   "collapsed_sections": [
    "dvAL2zB3arVj",
    "trsykIS2LA4r",
    "XtMGrGHGX60a",
    "oIAHagBHcTVU",
    "6qcAlkRSlZ-s",
    "De2-qE0P7O0X"
   ],
   "provenance": []
  },
  "kernelspec": {
   "display_name": "Python 3",
   "name": "python3"
  },
  "language_info": {
   "name": "python"
  }
 },
 "nbformat": 4,
 "nbformat_minor": 0
}
